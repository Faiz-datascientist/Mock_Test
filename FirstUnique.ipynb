{
 "cells": [
  {
   "cell_type": "code",
   "execution_count": 1,
   "id": "d20c8d37-4a23-4791-9b35-df27f495d043",
   "metadata": {},
   "outputs": [],
   "source": [
    "def firstUniqChar(s):\n",
    "    charFreq = {}\n",
    "\n",
    "    for char in s:\n",
    "        charFreq[char] = charFreq.get(char, 0) + 1\n",
    "\n",
    "    for i, char in enumerate(s):\n",
    "        if charFreq[char] == 1:\n",
    "            return i\n",
    "\n",
    "    return -1"
   ]
  },
  {
   "cell_type": "code",
   "execution_count": 2,
   "id": "7d043d88-bbb9-496a-a81a-9c8487d294be",
   "metadata": {},
   "outputs": [
    {
     "data": {
      "text/plain": [
       "0"
      ]
     },
     "execution_count": 2,
     "metadata": {},
     "output_type": "execute_result"
    }
   ],
   "source": [
    "firstUniqChar('leetcode')"
   ]
  },
  {
   "cell_type": "code",
   "execution_count": null,
   "id": "5348bbdb-c2fe-4f79-b050-1827a98f4109",
   "metadata": {},
   "outputs": [],
   "source": []
  }
 ],
 "metadata": {
  "kernelspec": {
   "display_name": "Python 3 (ipykernel)",
   "language": "python",
   "name": "python3"
  },
  "language_info": {
   "codemirror_mode": {
    "name": "ipython",
    "version": 3
   },
   "file_extension": ".py",
   "mimetype": "text/x-python",
   "name": "python",
   "nbconvert_exporter": "python",
   "pygments_lexer": "ipython3",
   "version": "3.10.6"
  }
 },
 "nbformat": 4,
 "nbformat_minor": 5
}
