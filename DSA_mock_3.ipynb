{
 "cells": [
  {
   "cell_type": "markdown",
   "id": "e861330a-81a8-42d0-91d1-28ba6a44ad44",
   "metadata": {},
   "source": [
    "Implement a stack using a list in Python. Include the necessary methods such as push, pop, and isEmpty."
   ]
  },
  {
   "cell_type": "code",
   "execution_count": 1,
   "id": "6a19b69c-7aaf-4086-b8e3-753e6daf90e2",
   "metadata": {},
   "outputs": [],
   "source": [
    "class Stack:\n",
    "    def __init__(self):\n",
    "        self.items = []\n",
    "\n",
    "    def push(self, item):\n",
    "        self.items.append(item)\n",
    "\n",
    "    def pop(self):\n",
    "        if not self.is_empty():\n",
    "            return self.items.pop()\n",
    "        else:\n",
    "            raise IndexError(\"Stack is empty\")\n",
    "\n",
    "    def is_empty(self):\n",
    "        return len(self.items) == 0"
   ]
  },
  {
   "cell_type": "code",
   "execution_count": null,
   "id": "314133d6-7a2d-4252-bcc5-526954699e54",
   "metadata": {},
   "outputs": [],
   "source": [
    "\n",
    "stack = Stack()\n",
    "\n",
    "\n",
    "stack.push(1)\n",
    "stack.push(2)\n",
    "stack.push(3)\n",
    "\n",
    "\n",
    "print(stack.pop())  \n",
    "print(stack.pop())  \n",
    "\n",
    "\n",
    "print(stack.is_empty()) \n",
    "\n",
    "\n",
    "print(stack.pop())  \n",
    "\n",
    "# Check if the stack is empty again\n",
    "print(stack.is_empty())  # Output: True"
   ]
  }
 ],
 "metadata": {
  "kernelspec": {
   "display_name": "Python 3 (ipykernel)",
   "language": "python",
   "name": "python3"
  },
  "language_info": {
   "codemirror_mode": {
    "name": "ipython",
    "version": 3
   },
   "file_extension": ".py",
   "mimetype": "text/x-python",
   "name": "python",
   "nbconvert_exporter": "python",
   "pygments_lexer": "ipython3",
   "version": "3.10.6"
  }
 },
 "nbformat": 4,
 "nbformat_minor": 5
}
